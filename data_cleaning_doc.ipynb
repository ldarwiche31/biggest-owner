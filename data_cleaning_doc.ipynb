{
 "cells": [
  {
   "cell_type": "code",
   "execution_count": 1,
   "id": "d7052c56",
   "metadata": {},
   "outputs": [
    {
     "name": "stderr",
     "output_type": "stream",
     "text": [
      "/opt/anaconda3/lib/python3.9/site-packages/IPython/core/interactiveshell.py:3444: DtypeWarning: Columns (131) have mixed types.Specify dtype option on import or set low_memory=False.\n",
      "  exec(code_obj, self.user_global_ns, self.user_ns)\n"
     ]
    }
   ],
   "source": [
    "# IMPORT MODULES\n",
    "import pandas as pd\n",
    "import numpy as np\n",
    "\n",
    "# OPTIONS\n",
    "pd.set_option('display.max_columns', 40)\n",
    "\n",
    "# IMPORT DATA\n",
    "data = pd.read_csv(\"parcel_universe.csv\")"
   ]
  },
  {
   "cell_type": "markdown",
   "id": "ef7106b5",
   "metadata": {},
   "source": [
    "## NOTES ON THE DATA\n",
    "I did filter the original data, which can be found [here](https://datacatalog.cookcountyil.gov/Property-Taxation/Assessor-Parcel-Universe/tx2p-k2g9), before I exported the data to the current csv file I loaded.\n",
    "\n",
    "I filtered for the four closest [neighborhood areas](https://datacatalog.cookcountyil.gov/d/pcdw-pxtg/visualization) to Northwestern's campus, to [property classifications](https://prodassets.cookcountyassessor.com/s3fs-public/form_documents/Definitions%20for%20Classifications_2023.pdf?VersionId=tZlQI5sTqEqaW.wtoOG5vnoUWTOYRpxo) (211, 212, 213, 313, 314, 315, 318, 391, 396, 397) that were specifically multi-family or apartment buildings, and for the last ten years of tax record."
   ]
  },
  {
   "cell_type": "code",
   "execution_count": 9,
   "id": "79ed81de",
   "metadata": {},
   "outputs": [],
   "source": [
    "parcel = data.iloc[:,0:29]\n",
    "parcel[\"census_tract_geoid\"] = data[\"census_tract_geoid\"]"
   ]
  },
  {
   "cell_type": "code",
   "execution_count": 13,
   "id": "1db3242b",
   "metadata": {},
   "outputs": [],
   "source": [
    "# will use the year 2022 to find biggest owner\n",
    "parcel_2022 = parcel[parcel[\"tax_year\"] == 2022]"
   ]
  },
  {
   "cell_type": "markdown",
   "id": "eec89b5a",
   "metadata": {},
   "source": [
    "## CLEANING THE DATA\n",
    "\n",
    "The biggest problem is that the data is fairly dirty in terms of addresses. We need to ensure that the addresses that are in the property column aren't repetitive (in particular, there are some oowners that seem to own multiple units in a building and are listed differently. The hardest "
   ]
  }
 ],
 "metadata": {
  "kernelspec": {
   "display_name": "Python 3 (ipykernel)",
   "language": "python",
   "name": "python3"
  },
  "language_info": {
   "codemirror_mode": {
    "name": "ipython",
    "version": 3
   },
   "file_extension": ".py",
   "mimetype": "text/x-python",
   "name": "python",
   "nbconvert_exporter": "python",
   "pygments_lexer": "ipython3",
   "version": "3.9.7"
  }
 },
 "nbformat": 4,
 "nbformat_minor": 5
}
